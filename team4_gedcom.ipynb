{
 "cells": [
  {
   "cell_type": "code",
   "execution_count": 14,
   "id": "9bdc604d",
   "metadata": {},
   "outputs": [
    {
     "name": "stdout",
     "output_type": "stream",
     "text": [
      "Requirement already satisfied: python-gedcom in /Users/oussamaelhaddad/opt/anaconda3/lib/python3.8/site-packages (1.0.0)\n",
      "Note: you may need to restart the kernel to use updated packages.\n"
     ]
    }
   ],
   "source": [
    "pip install python-gedcom"
   ]
  },
  {
   "cell_type": "code",
   "execution_count": 15,
   "id": "cf84d1f6",
   "metadata": {},
   "outputs": [
    {
     "name": "stdout",
     "output_type": "stream",
     "text": [
      "Requirement already satisfied: tabulate in /Users/oussamaelhaddad/opt/anaconda3/lib/python3.8/site-packages (0.9.0)\n",
      "Note: you may need to restart the kernel to use updated packages.\n"
     ]
    }
   ],
   "source": [
    "pip install tabulate\n"
   ]
  },
  {
   "cell_type": "code",
   "execution_count": 16,
   "id": "513a8c69",
   "metadata": {},
   "outputs": [],
   "source": [
    "### gedcom library\n",
    "\n",
    "from gedcom.parser import Parser\n",
    "from gedcom.element.individual import IndividualElement\n",
    "from gedcom.element.family import FamilyElement\n",
    "import pandas as pd\n",
    "import numpy as np\n",
    "from tabulate import tabulate\n",
    "import datetime\n",
    "from datetime import date\n",
    "\n",
    "import warnings\n",
    "warnings.filterwarnings(\"ignore\")"
   ]
  },
  {
   "cell_type": "code",
   "execution_count": 17,
   "id": "513bd82d",
   "metadata": {},
   "outputs": [],
   "source": [
    "def calculateAge(birthDate, deathDate):\n",
    "    \n",
    "      age = deathDate.year - birthDate.year - ((deathDate.month, deathDate.day) <\n",
    "            (birthDate.month, birthDate.day))\n",
    "         \n",
    " \n",
    "      return age"
   ]
  },
  {
   "cell_type": "code",
   "execution_count": 18,
   "id": "cf9ce6a2",
   "metadata": {},
   "outputs": [],
   "source": [
    "def getIndividuals(file):\n",
    "    \n",
    "    ### dataframe to store individuals details\n",
    "    individuals = pd.DataFrame(columns=['ID','Name','Gender','Birthday','Age','Alive','Death','Child','Spouse'])\n",
    "    \n",
    "    ### Parse the gedcom file\n",
    "    parser = Parser()\n",
    "    parser.parse_file(file)\n",
    "    \n",
    "    ### Iterate through each element and pull an individual data based on level and tag conditions\n",
    "    for ele in parser.get_element_list():\n",
    "        \n",
    "        if(IndividualElement.is_individual(ele) == True):\n",
    "            \n",
    "            famSpouses = set()\n",
    "            famChilds = set()            \n",
    "            id = ele.get_pointer().replace('@', '')\n",
    "            deathDate = 'NA'\n",
    "            alive = 'True'\n",
    "            \n",
    "            ### For each individual element, below extracting the personal data\n",
    "            child_elements = IndividualElement.get_child_elements(ele)\n",
    "            for child in child_elements:\n",
    "                if(child.get_tag() == 'NAME'):\n",
    "                    name = child.get_value()\n",
    "                    # print(name)\n",
    "                elif(child.get_tag() == 'SEX'):\n",
    "                    gender = child.get_value()\n",
    "                    # print(gender)\n",
    "                elif(child.get_tag() == 'BIRT'):\n",
    "                    birthDate = datetime.datetime.strptime(child.get_child_elements()[0].get_value(),'%d %b %Y').strftime('%Y-%m-%d')\n",
    "                    # print(birthDate)\n",
    "                    age = calculateAge(date(int(birthDate.split('-')[0]),int(birthDate.split('-')[1]),int(birthDate.split('-')[2])), \n",
    "                            date.today())\n",
    "                elif(child.get_tag() == 'FAMS'):\n",
    "                    famSpouses.add(child.get_value().replace('@', ''))\n",
    "                    # print('Spouse ', famSpouses)\n",
    "                elif(child.get_tag() == 'FAMC'):\n",
    "                    famChilds.add(child.get_value().replace('@', ''))\n",
    "                    # print('Childs ', famChilds)\n",
    "                elif(child.get_tag() == 'DEAT'):\n",
    "                    deathDate = datetime.datetime.strptime(child.get_child_elements()[0].get_value(),'%d %b %Y').strftime('%Y-%m-%d')\n",
    "                    # print(deathDate)\n",
    "                    alive = 'False'\n",
    "                    age = calculateAge(date(int(birthDate.split('-')[0]),int(birthDate.split('-')[1]),int(birthDate.split('-')[2])), \n",
    "                           date(int(deathDate.split('-')[0]),int(deathDate.split('-')[1]),int(deathDate.split('-')[2])))\n",
    "                    \n",
    "        \n",
    "            # print('*********')  \n",
    "        ### Appending each individual to dataframe\n",
    "        \n",
    "            if not famChilds:\n",
    "                famChilds = {}\n",
    "            if not famSpouses:\n",
    "                famSpouses = {}\n",
    "                \n",
    "            row = {'ID': id, 'Name': name, 'Gender': gender, \n",
    "                'Birthday': birthDate, 'Age': age, 'Alive': alive,\n",
    "                'Death': deathDate, 'Child': famChilds, 'Spouse': famSpouses}\n",
    "            \n",
    "            individuals = individuals.append(row, ignore_index = True)\n",
    "            \n",
    "    return individuals\n"
   ]
  },
  {
   "cell_type": "code",
   "execution_count": 19,
   "id": "54cfad79",
   "metadata": {},
   "outputs": [],
   "source": [
    "def getFamilies(file):\n",
    "    \n",
    "    ### dataframe to store individuals details\n",
    "    families = pd.DataFrame(columns=['ID','Married','Divorced','Husband ID','Husband Name','Wife ID','Wife Name','Children'])\n",
    "    \n",
    "    ### Parse the gedcom file\n",
    "    parser = Parser()\n",
    "    parser.parse_file(file)\n",
    "    \n",
    "    for ele in parser.get_element_list():\n",
    "\n",
    "        if(FamilyElement.is_family(ele) == True):\n",
    "                \n",
    "                childrens = set()\n",
    "                id = ele.get_pointer().replace('@', '')\n",
    "                divorce = 'NA'\n",
    "                childs = IndividualElement.get_child_elements(ele)\n",
    "                for child in childs:\n",
    "                    \n",
    "                    if(child.get_tag() == 'HUSB'):\n",
    "                        husbID = child.get_value().replace('@', '')\n",
    "                    elif(child.get_tag() == 'WIFE'):\n",
    "                        wifeID = child.get_value().replace('@', '')\n",
    "                    elif(child.get_tag() == 'CHIL'):\n",
    "                        childrens.add(child.get_value().replace('@', ''))\n",
    "                    elif(child.get_tag() == 'MARR'):\n",
    "                        marriage = datetime.datetime.strptime(IndividualElement.get_child_elements(child)[0].get_value(),'%d %b %Y').strftime('%Y-%m-%d')\n",
    "                    elif(child.get_tag() == 'DIV'):\n",
    "                        divorce = datetime.datetime.strptime(IndividualElement.get_child_elements(child)[0].get_value(),'%d %b %Y').strftime('%Y-%m-%d')\n",
    "                        \n",
    "                        \n",
    "                individuals = getIndividuals(file)\n",
    "                \n",
    "                husbName = individuals.loc[individuals['ID'] == husbID, 'Name'].iloc[0]\n",
    "                wifeName = individuals.loc[individuals['ID'] == wifeID, 'Name'].iloc[0]\n",
    "                ### Appending each individual to dataframe\n",
    "                row = {'ID': id, 'Married': marriage, 'Divorced': divorce, \n",
    "                    'Husband ID': husbID, 'Husband Name': husbName, 'Wife ID': wifeID,\n",
    "                    'Wife Name': wifeName, 'Children': childrens}\n",
    "                \n",
    "                families = families.append(row, ignore_index = True)\n",
    "    \n",
    "    return families"
   ]
  },
  {
   "cell_type": "code",
   "execution_count": 28,
   "id": "4c4742de",
   "metadata": {},
   "outputs": [
    {
     "name": "stdout",
     "output_type": "stream",
     "text": [
      "+----+------+-------------------+----------+------------+-------+---------+------------+---------+--------------+\n",
      "|    | ID   | Name              | Gender   | Birthday   |   Age | Alive   | Death      | Child   | Spouse       |\n",
      "|----+------+-------------------+----------+------------+-------+---------+------------+---------+--------------|\n",
      "|  0 | I1   | Alex /Rubin/      | M        | 1950-10-14 |    59 | False   | 2010-05-11 | {}      | {'F1'}       |\n",
      "|  1 | I2   | Michelle /Rubin/  | F        | 1955-06-08 |    -5 | False   | 1950-09-04 | {}      | {'F1', 'F2'} |\n",
      "|  2 | I3   | Jhon /Rubin/      | M        | 1980-08-08 |    42 | True    | NA         | {'F1'}  | {'F3'}       |\n",
      "|  3 | I4   | Emily /Rubin/     | F        | 1984-11-13 |    -5 | False   | 1980-11-09 | {'F1'}  | {}           |\n",
      "|  4 | I5   | Crystal /Rubin/   | F        | 1985-06-08 |    38 | True    | NA         | {}      | {'F3'}       |\n",
      "|  5 | I6   | Leo /Rubin/       | M        | 2010-05-07 |    13 | True    | NA         | {'F3'}  | {}           |\n",
      "|  6 | I7   | Rina /Rubin/      | F        | 2013-11-12 |     9 | True    | NA         | {'F3'}  | {}           |\n",
      "|  7 | I8   | Jim /Hernandez/   | M        | 1953-11-09 |    69 | True    | NA         | {}      | {'F2'}       |\n",
      "|  8 | I9   | Yosef /Hernandez/ | M        | 2016-12-08 |     6 | True    | NA         | {'F2'}  | {}           |\n",
      "+----+------+-------------------+----------+------------+-------+---------+------------+---------+--------------+\n",
      "+----+------+------------+------------+--------------+-----------------+-----------+------------------+--------------+\n",
      "|    | ID   | Married    | Divorced   | Husband ID   | Husband Name    | Wife ID   | Wife Name        | Children     |\n",
      "|----+------+------------+------------+--------------+-----------------+-----------+------------------+--------------|\n",
      "|  0 | F1   | 1975-03-19 | NA         | I1           | Alex /Rubin/    | I2        | Michelle /Rubin/ | {'I3', 'I4'} |\n",
      "|  1 | F2   | 2015-08-15 | NA         | I8           | Jim /Hernandez/ | I2        | Michelle /Rubin/ | {'I9'}       |\n",
      "|  2 | F3   | 2007-11-12 | NA         | I3           | Jhon /Rubin/    | I5        | Crystal /Rubin/  | {'I6', 'I7'} |\n",
      "+----+------+------------+------------+--------------+-----------------+-----------+------------------+--------------+\n"
     ]
    }
   ],
   "source": [
    "### Enter your file name\n",
    "\n",
    "file = input(\"Enter the file name \")\n",
    "\n",
    "individuals = getIndividuals(file)\n",
    "print(tabulate(individuals, headers='keys', tablefmt='psql'))\n",
    "\n",
    "families = getFamilies(file)\n",
    "print(tabulate(families, headers='keys', tablefmt='psql'))\n",
    "\n",
    "\n",
    "with open('output_file.txt', 'w') as f:\n",
    "    f.write(tabulate(individuals, headers='keys', tablefmt='psql')+'\\n')\n",
    "    f.write(tabulate(families, headers='keys', tablefmt='psql')+'\\n')"
   ]
  },
  {
   "cell_type": "code",
   "execution_count": 29,
   "id": "ee7cd792",
   "metadata": {},
   "outputs": [],
   "source": [
    "### US 03 - Birth before death\n",
    "def verify_birth(individuals):\n",
    "    \n",
    "    errors = []\n",
    "    \n",
    "    if(type(individuals) is not pd.DataFrame):\n",
    "        \n",
    "        print('The data should be Dataframe to process')\n",
    "    elif(individuals is None):\n",
    "        \n",
    "        print('The data is empty')\n",
    "    else:\n",
    "        for i in range(0,len(individuals)):\n",
    "            \n",
    "            if(individuals.iloc[i]['Birthday'] != 'NA' and individuals.iloc[i]['Death'] != 'NA'):    \n",
    "                \n",
    "                if(datetime.datetime.strptime(individuals.iloc[i]['Birthday'], '%Y-%m-%d') >= datetime.datetime.strptime(individuals.iloc[i]['Death'], '%Y-%m-%d')):\n",
    "                    \n",
    "                    errors.append('ERROR: INDIVIDUAL: US03 ' + individuals.iloc[i]['ID'] + ' Died ' + individuals.iloc[i]['Death'] + ' before born '+individuals.iloc[i]['Birthday'])\n",
    "                    print('ERROR: INDIVIDUAL: US03 ' + individuals.iloc[i]['ID'] + ' Died ' + individuals.iloc[i]['Death'] + ' before born '+individuals.iloc[i]['Birthday'])\n",
    "                    \n",
    "    return errors"
   ]
  },
  {
   "cell_type": "code",
   "execution_count": 30,
   "id": "84586590",
   "metadata": {},
   "outputs": [
    {
     "name": "stdout",
     "output_type": "stream",
     "text": [
      "ERROR: INDIVIDUAL: US03 I2 Died 1950-09-04 before born 1955-06-08\n",
      "ERROR: INDIVIDUAL: US03 I4 Died 1980-11-09 before born 1984-11-13\n"
     ]
    }
   ],
   "source": [
    "errors = verify_birth(individuals)\n",
    "\n",
    "with open(\"output_file.txt\", 'a') as f:\n",
    "    for e in errors:\n",
    "        f.write(e+'\\n')"
   ]
  },
  {
   "cell_type": "code",
   "execution_count": 31,
   "id": "0c94c410",
   "metadata": {},
   "outputs": [],
   "source": [
    "### US 05 - Marriage before death\n",
    "def verify_marriage(families, individuals):\n",
    "    \n",
    "    errors = []\n",
    "    \n",
    "    if(type(families) is not pd.DataFrame):\n",
    "        \n",
    "        print('The data should be Dataframe to process')\n",
    "    elif(families is None):\n",
    "        \n",
    "        print('The data is empty')\n",
    "    else:\n",
    "        for i in range(0,len(families)):\n",
    "            \n",
    "            if(individuals.loc[individuals['ID'] == families.iloc[i]['Husband ID'], 'Death'].iloc[0] != 'NA' and families.iloc[i]['Married'] != 'NA'):    \n",
    "                \n",
    "                if(datetime.datetime.strptime(families.iloc[i]['Married'], '%Y-%m-%d') >= datetime.datetime.strptime(individuals.loc[individuals['ID'] == families.iloc[i]['Husband ID'], 'Death'].iloc[0], '%Y-%m-%d')):\n",
    "                    \n",
    "                    errors.append('ERROR: Family: US05 ' + families.iloc[i]['ID'] + ': Married'+ families.iloc[i]['Married'] + ' after husband/s '+families.iloc[i]['Husband ID']+ ' death on '+individuals.loc[individuals['ID'] == families.iloc[i]['Husband ID'], 'Death'].iloc[0])\n",
    "                    print('ERROR: Family: US05 ' + families.iloc[i]['ID'] + ': Married'+ families.iloc[i]['Married'] + ' after husband/s '+families.iloc[i]['Husband ID']+ ' death on '+individuals.loc[individuals['ID'] == families.iloc[i]['Husband ID'], 'Death'].iloc[0])\n",
    "            \n",
    "            elif(individuals.loc[individuals['ID'] == families.iloc[i]['Wife ID'], 'Death'].iloc[0] != 'NA' and families.iloc[i]['Married'] != 'NA'):\n",
    "                \n",
    "                if(datetime.datetime.strptime(families.iloc[i]['Married'], '%Y-%m-%d') >= datetime.datetime.strptime(individuals.loc[individuals['ID'] == families.iloc[i]['Wife ID'], 'Death'].iloc[0], '%Y-%m-%d')):\n",
    "                    \n",
    "                    errors.append('ERROR: Family: US05 ' + families.iloc[i]['ID'] + ': Married '+ families.iloc[i]['Married'] + ' after wife/s '+families.iloc[i]['Wife ID']+ ' death on '+individuals.loc[individuals['ID'] == families.iloc[i]['Wife ID'], 'Death'].iloc[0])\n",
    "                    print('ERROR: Family: US05 ' + families.iloc[i]['ID'] + ': Married '+ families.iloc[i]['Married'] + ' after wife/s '+families.iloc[i]['Wife ID']+ ' death on '+individuals.loc[individuals['ID'] == families.iloc[i]['Wife ID'], 'Death'].iloc[0])\n",
    "    return errors"
   ]
  },
  {
   "cell_type": "code",
   "execution_count": 32,
   "id": "4972f60b",
   "metadata": {},
   "outputs": [
    {
     "name": "stdout",
     "output_type": "stream",
     "text": [
      "ERROR: Family: US05 F2: Married 2015-08-15 after wife/s I2 death on 1950-09-04\n"
     ]
    }
   ],
   "source": [
    "errors = verify_marriage(families, individuals)\n",
    "\n",
    "with open(\"output_file.txt\", 'a') as f:\n",
    "    for e in errors:\n",
    "        f.write(e+'\\n')"
   ]
  },
  {
   "cell_type": "code",
   "execution_count": null,
   "id": "a667f986",
   "metadata": {},
   "outputs": [],
   "source": []
  }
 ],
 "metadata": {
  "kernelspec": {
   "display_name": "Python 3.8.16 ('base')",
   "language": "python",
   "name": "python3"
  },
  "language_info": {
   "codemirror_mode": {
    "name": "ipython",
    "version": 3
   },
   "file_extension": ".py",
   "mimetype": "text/x-python",
   "name": "python",
   "nbconvert_exporter": "python",
   "pygments_lexer": "ipython3",
   "version": "3.8.16"
  },
  "vscode": {
   "interpreter": {
    "hash": "ac1117340a4449a8e35a7b4ffbf3ab7b2154da17054eb29698d9e16e1dc3ea1c"
   }
  }
 },
 "nbformat": 4,
 "nbformat_minor": 5
}
