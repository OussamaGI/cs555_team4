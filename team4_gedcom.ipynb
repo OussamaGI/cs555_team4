{
 "cells": [
  {
   "cell_type": "code",
   "execution_count": 257,
   "id": "9bdc604d",
   "metadata": {},
   "outputs": [
    {
     "name": "stdout",
     "output_type": "stream",
     "text": [
      "Requirement already satisfied: python-gedcom in /Users/oussamaelhaddad/opt/anaconda3/lib/python3.8/site-packages (1.0.0)\n",
      "Note: you may need to restart the kernel to use updated packages.\n"
     ]
    }
   ],
   "source": [
    "pip install python-gedcom"
   ]
  },
  {
   "cell_type": "code",
   "execution_count": 258,
   "id": "cf84d1f6",
   "metadata": {},
   "outputs": [
    {
     "name": "stdout",
     "output_type": "stream",
     "text": [
      "Requirement already satisfied: tabulate in /Users/oussamaelhaddad/opt/anaconda3/lib/python3.8/site-packages (0.9.0)\n",
      "Note: you may need to restart the kernel to use updated packages.\n"
     ]
    }
   ],
   "source": [
    "pip install tabulate\n"
   ]
  },
  {
   "cell_type": "code",
   "execution_count": 309,
   "id": "513a8c69",
   "metadata": {},
   "outputs": [],
   "source": [
    "### gedcom library\n",
    "\n",
    "from gedcom.parser import Parser\n",
    "from gedcom.element.individual import IndividualElement\n",
    "from gedcom.element.family import FamilyElement\n",
    "import pandas as pd\n",
    "import numpy as np\n",
    "from tabulate import tabulate\n",
    "import datetime\n",
    "from datetime import date\n",
    "from datetime import timedelta\n",
    "\n",
    "\n",
    "import warnings\n",
    "warnings.filterwarnings(\"ignore\")"
   ]
  },
  {
   "cell_type": "code",
   "execution_count": 310,
   "id": "513bd82d",
   "metadata": {},
   "outputs": [],
   "source": [
    "def calculateAge(birthDate, deathDate):\n",
    "    \n",
    "      age = deathDate.year - birthDate.year - ((deathDate.month, deathDate.day) <\n",
    "            (birthDate.month, birthDate.day))\n",
    "         \n",
    " \n",
    "      return age"
   ]
  },
  {
   "cell_type": "code",
   "execution_count": 311,
   "id": "cf9ce6a2",
   "metadata": {},
   "outputs": [],
   "source": [
    "def getIndividuals(file):\n",
    "    \n",
    "    ### dataframe to store individuals details\n",
    "    individuals = pd.DataFrame(columns=['ID','Name','Gender','Birthday','Age','Alive','Death','Child','Spouse'])\n",
    "    \n",
    "    ### Parse the gedcom file\n",
    "    parser = Parser()\n",
    "    parser.parse_file(file)\n",
    "    \n",
    "    ### Iterate through each element and pull an individual data based on level and tag conditions\n",
    "    for ele in parser.get_element_list():\n",
    "        \n",
    "        if(IndividualElement.is_individual(ele) == True):\n",
    "            \n",
    "            famSpouses = set()\n",
    "            famChilds = set()            \n",
    "            id = ele.get_pointer().replace('@', '')\n",
    "            deathDate = 'NA'\n",
    "            alive = 'True'\n",
    "            \n",
    "            ### For each individual element, below extracting the personal data\n",
    "            child_elements = IndividualElement.get_child_elements(ele)\n",
    "            for child in child_elements:\n",
    "                if(child.get_tag() == 'NAME'):\n",
    "                    name = child.get_value()\n",
    "                    # print(name)\n",
    "                elif(child.get_tag() == 'SEX'):\n",
    "                    gender = child.get_value()\n",
    "                    # print(gender)\n",
    "                elif(child.get_tag() == 'BIRT'):\n",
    "                    birthDate = datetime.datetime.strptime(child.get_child_elements()[0].get_value(),'%d %b %Y').strftime('%Y-%m-%d')\n",
    "                    # print(birthDate)\n",
    "                    age = calculateAge(date(int(birthDate.split('-')[0]),int(birthDate.split('-')[1]),int(birthDate.split('-')[2])), \n",
    "                            date.today())\n",
    "                elif(child.get_tag() == 'FAMS'):\n",
    "                    famSpouses.add(child.get_value().replace('@', ''))\n",
    "                    # print('Spouse ', famSpouses)\n",
    "                elif(child.get_tag() == 'FAMC'):\n",
    "                    famChilds.add(child.get_value().replace('@', ''))\n",
    "                    # print('Childs ', famChilds)\n",
    "                elif(child.get_tag() == 'DEAT'):\n",
    "                    deathDate = datetime.datetime.strptime(child.get_child_elements()[0].get_value(),'%d %b %Y').strftime('%Y-%m-%d')\n",
    "                    # print(deathDate)\n",
    "                    alive = 'False'\n",
    "                    age = calculateAge(date(int(birthDate.split('-')[0]),int(birthDate.split('-')[1]),int(birthDate.split('-')[2])), \n",
    "                           date(int(deathDate.split('-')[0]),int(deathDate.split('-')[1]),int(deathDate.split('-')[2])))\n",
    "                    \n",
    "        \n",
    "            # print('*********')  \n",
    "        ### Appending each individual to dataframe\n",
    "        \n",
    "            if not famChilds:\n",
    "                famChilds = {}\n",
    "            if not famSpouses:\n",
    "                famSpouses = {}\n",
    "                \n",
    "            row = {'ID': id, 'Name': name, 'Gender': gender, \n",
    "                'Birthday': birthDate, 'Age': age, 'Alive': alive,\n",
    "                'Death': deathDate, 'Child': famChilds, 'Spouse': famSpouses}\n",
    "            \n",
    "            #individuals = individuals.append(row, ignore_index = True)#\n",
    "\n",
    "            individuals = pd.concat([individuals, pd.DataFrame([row])], ignore_index=True)\n",
    "            \n",
    "    return individuals\n"
   ]
  },
  {
   "cell_type": "code",
   "execution_count": 312,
   "id": "54cfad79",
   "metadata": {},
   "outputs": [],
   "source": [
    "def getFamilies(file):\n",
    "    \n",
    "    ### dataframe to store individuals details\n",
    "    families = pd.DataFrame(columns=['ID','Married','Divorced','Husband ID','Husband Name','Wife ID','Wife Name','Children'])\n",
    "    \n",
    "    ### Parse the gedcom file\n",
    "    parser = Parser()\n",
    "    parser.parse_file(file)\n",
    "    \n",
    "    for ele in parser.get_element_list():\n",
    "\n",
    "        if(FamilyElement.is_family(ele) == True):\n",
    "                \n",
    "                childrens = set()\n",
    "                id = ele.get_pointer().replace('@', '')\n",
    "                divorce = 'NA'\n",
    "                childs = IndividualElement.get_child_elements(ele)\n",
    "                for child in childs:\n",
    "                    \n",
    "                    if(child.get_tag() == 'HUSB'):\n",
    "                        husbID = child.get_value().replace('@', '')\n",
    "                    elif(child.get_tag() == 'WIFE'):\n",
    "                        wifeID = child.get_value().replace('@', '')\n",
    "                    elif(child.get_tag() == 'CHIL'):\n",
    "                        childrens.add(child.get_value().replace('@', ''))\n",
    "                    elif(child.get_tag() == 'MARR'):\n",
    "                        marriage = datetime.datetime.strptime(IndividualElement.get_child_elements(child)[0].get_value(),'%d %b %Y').strftime('%Y-%m-%d')\n",
    "                    elif(child.get_tag() == 'DIV'):\n",
    "                        divorce = datetime.datetime.strptime(IndividualElement.get_child_elements(child)[0].get_value(),'%d %b %Y').strftime('%Y-%m-%d')\n",
    "                        \n",
    "                        \n",
    "                individuals = getIndividuals(file)\n",
    "                \n",
    "                husbName = individuals.loc[individuals['ID'] == husbID, 'Name'].iloc[0]\n",
    "                wifeName = individuals.loc[individuals['ID'] == wifeID, 'Name'].iloc[0]\n",
    "                ### Appending each individual to dataframe\n",
    "                row = {'ID': id, 'Married': marriage, 'Divorced': divorce, \n",
    "                    'Husband ID': husbID, 'Husband Name': husbName, 'Wife ID': wifeID,\n",
    "                    'Wife Name': wifeName, 'Children': childrens}\n",
    "                \n",
    "                #families = families.append(row, ignore_index = True)#\n",
    "\n",
    "                families = pd.concat([families, pd.DataFrame([row])], ignore_index=True)\n",
    "    \n",
    "    return families"
   ]
  },
  {
   "cell_type": "code",
   "execution_count": 313,
   "id": "4c4742de",
   "metadata": {},
   "outputs": [
    {
     "name": "stdout",
     "output_type": "stream",
     "text": [
      "+----+------+-------------------+----------+------------+-------+---------+------------+---------+--------------+\n",
      "|    | ID   | Name              | Gender   | Birthday   |   Age | Alive   | Death      | Child   | Spouse       |\n",
      "|----+------+-------------------+----------+------------+-------+---------+------------+---------+--------------|\n",
      "|  0 | I1   | Alex /Rubin/      | M        | 1950-10-14 |    72 | False   | 2023-05-17 | {}      | {'F1'}       |\n",
      "|  1 | I2   | Michelle /Rubin/  | F        | 1955-06-08 |    -5 | False   | 1950-09-04 | {}      | {'F2', 'F1'} |\n",
      "|  2 | I3   | Jhon /Rubin/      | M        | 1980-08-08 |    42 | True    | NA         | {'F1'}  | {'F3'}       |\n",
      "|  3 | I4   | Emily /Rubin/     | F        | 1984-11-13 |    -5 | False   | 1980-11-09 | {'F1'}  | {}           |\n",
      "|  4 | I5   | Crystal /Rubin/   | F        | 1985-06-08 |    38 | True    | NA         | {}      | {'F3'}       |\n",
      "|  5 | I6   | Leo /Rubin/       | M        | 2010-05-07 |    13 | True    | NA         | {'F3'}  | {}           |\n",
      "|  6 | I7   | Rina /Rubin/      | F        | 2013-11-12 |     9 | True    | NA         | {'F3'}  | {}           |\n",
      "|  7 | I8   | Jim /Hernandez/   | M        | 1953-11-09 |    69 | True    | NA         | {}      | {'F2'}       |\n",
      "|  8 | I9   | Yosef /Hernandez/ | M        | 2016-12-08 |     6 | True    | NA         | {'F2'}  | {}           |\n",
      "+----+------+-------------------+----------+------------+-------+---------+------------+---------+--------------+\n",
      "+----+------+------------+------------+--------------+-----------------+-----------+------------------+--------------+\n",
      "|    | ID   | Married    | Divorced   | Husband ID   | Husband Name    | Wife ID   | Wife Name        | Children     |\n",
      "|----+------+------------+------------+--------------+-----------------+-----------+------------------+--------------|\n",
      "|  0 | F1   | 1975-03-19 | 1970-03-19 | I1           | Alex /Rubin/    | I2        | Michelle /Rubin/ | {'I4', 'I3'} |\n",
      "|  1 | F2   | 2015-08-15 | NA         | I8           | Jim /Hernandez/ | I2        | Michelle /Rubin/ | {'I9'}       |\n",
      "|  2 | F3   | 2007-11-12 | NA         | I3           | Jhon /Rubin/    | I5        | Crystal /Rubin/  | {'I7', 'I6'} |\n",
      "+----+------+------------+------------+--------------+-----------------+-----------+------------------+--------------+\n"
     ]
    }
   ],
   "source": [
    "### Enter your file name\n",
    "\n",
    "file = input(\"Enter the file name \")\n",
    "\n",
    "individuals = getIndividuals(file)\n",
    "print(tabulate(individuals, headers='keys', tablefmt='psql'))\n",
    "\n",
    "families = getFamilies(file)\n",
    "print(tabulate(families, headers='keys', tablefmt='psql'))\n",
    "\n",
    "\n",
    "with open('output_file.txt', 'w') as f:\n",
    "    f.write(tabulate(individuals, headers='keys', tablefmt='psql')+'\\n')\n",
    "    f.write(tabulate(families, headers='keys', tablefmt='psql')+'\\n')"
   ]
  },
  {
   "cell_type": "code",
   "execution_count": 314,
   "id": "ee7cd792",
   "metadata": {},
   "outputs": [],
   "source": [
    "### US 03 - Birth before death\n",
    "def verify_birth(individuals):\n",
    "    \n",
    "    errors = []\n",
    "    \n",
    "    if(type(individuals) is not pd.DataFrame):\n",
    "        \n",
    "        print('The data should be Dataframe to process')\n",
    "    elif(individuals is None):\n",
    "        \n",
    "        print('The data is empty')\n",
    "    else:\n",
    "        for i in range(0,len(individuals)):\n",
    "            \n",
    "            if(individuals.iloc[i]['Birthday'] != 'NA' and individuals.iloc[i]['Death'] != 'NA'):    \n",
    "                \n",
    "                if(datetime.datetime.strptime(individuals.iloc[i]['Birthday'], '%Y-%m-%d') >= datetime.datetime.strptime(individuals.iloc[i]['Death'], '%Y-%m-%d')):\n",
    "                    \n",
    "                    errors.append('ERROR: INDIVIDUAL: US03 ' + individuals.iloc[i]['ID'] + ' Died ' + individuals.iloc[i]['Death'] + ' before born '+individuals.iloc[i]['Birthday'])\n",
    "                    print('ERROR: INDIVIDUAL: US03 ' + individuals.iloc[i]['ID'] + ' Died ' + individuals.iloc[i]['Death'] + ' before born '+individuals.iloc[i]['Birthday'])\n",
    "                    \n",
    "    return errors"
   ]
  },
  {
   "cell_type": "code",
   "execution_count": 315,
   "id": "84586590",
   "metadata": {},
   "outputs": [
    {
     "name": "stdout",
     "output_type": "stream",
     "text": [
      "ERROR: INDIVIDUAL: US03 I2 Died 1950-09-04 before born 1955-06-08\n",
      "ERROR: INDIVIDUAL: US03 I4 Died 1980-11-09 before born 1984-11-13\n"
     ]
    }
   ],
   "source": [
    "errors = verify_birth(individuals)\n",
    "\n",
    "with open(\"output_file.txt\", 'a') as f:\n",
    "    for e in errors:\n",
    "        f.write(e+'\\n')"
   ]
  },
  {
   "cell_type": "code",
   "execution_count": 316,
   "id": "0c94c410",
   "metadata": {},
   "outputs": [],
   "source": [
    "### US 05 - Marriage before death\n",
    "def verify_marriage(families, individuals):\n",
    "    \n",
    "    errors = []\n",
    "    \n",
    "    if(type(families) is not pd.DataFrame):\n",
    "        \n",
    "        print('The data should be Dataframe to process')\n",
    "    elif(families is None):\n",
    "        \n",
    "        print('The data is empty')\n",
    "    else:\n",
    "        for i in range(0,len(families)):\n",
    "            \n",
    "            if(individuals.loc[individuals['ID'] == families.iloc[i]['Husband ID'], 'Death'].iloc[0] != 'NA' and families.iloc[i]['Married'] != 'NA'):    \n",
    "                \n",
    "                if(datetime.datetime.strptime(families.iloc[i]['Married'], '%Y-%m-%d') >= datetime.datetime.strptime(individuals.loc[individuals['ID'] == families.iloc[i]['Husband ID'], 'Death'].iloc[0], '%Y-%m-%d')):\n",
    "                    \n",
    "                    errors.append('ERROR: Family: US05 ' + families.iloc[i]['ID'] + ': Married'+ families.iloc[i]['Married'] + ' after husband/s '+families.iloc[i]['Husband ID']+ ' death on '+individuals.loc[individuals['ID'] == families.iloc[i]['Husband ID'], 'Death'].iloc[0])\n",
    "                    print('ERROR: Family: US05 ' + families.iloc[i]['ID'] + ': Married'+ families.iloc[i]['Married'] + ' after husband/s '+families.iloc[i]['Husband ID']+ ' death on '+individuals.loc[individuals['ID'] == families.iloc[i]['Husband ID'], 'Death'].iloc[0])\n",
    "            \n",
    "            elif(individuals.loc[individuals['ID'] == families.iloc[i]['Wife ID'], 'Death'].iloc[0] != 'NA' and families.iloc[i]['Married'] != 'NA'):\n",
    "                \n",
    "                if(datetime.datetime.strptime(families.iloc[i]['Married'], '%Y-%m-%d') >= datetime.datetime.strptime(individuals.loc[individuals['ID'] == families.iloc[i]['Wife ID'], 'Death'].iloc[0], '%Y-%m-%d')):\n",
    "                    \n",
    "                    errors.append('ERROR: Family: US05 ' + families.iloc[i]['ID'] + ': Married '+ families.iloc[i]['Married'] + ' after wife/s '+families.iloc[i]['Wife ID']+ ' death on '+individuals.loc[individuals['ID'] == families.iloc[i]['Wife ID'], 'Death'].iloc[0])\n",
    "                    print('ERROR: Family: US05 ' + families.iloc[i]['ID'] + ': Married '+ families.iloc[i]['Married'] + ' after wife/s '+families.iloc[i]['Wife ID']+ ' death on '+individuals.loc[individuals['ID'] == families.iloc[i]['Wife ID'], 'Death'].iloc[0])\n",
    "    return errors"
   ]
  },
  {
   "cell_type": "code",
   "execution_count": 317,
   "id": "4972f60b",
   "metadata": {},
   "outputs": [
    {
     "name": "stdout",
     "output_type": "stream",
     "text": [
      "ERROR: Family: US05 F2: Married 2015-08-15 after wife/s I2 death on 1950-09-04\n"
     ]
    }
   ],
   "source": [
    "errors = verify_marriage(families, individuals)\n",
    "\n",
    "with open(\"output_file.txt\", 'a') as f:\n",
    "    for e in errors:\n",
    "        f.write(e+'\\n')"
   ]
  },
  {
   "cell_type": "code",
   "execution_count": 318,
   "id": "6d80b377",
   "metadata": {},
   "outputs": [],
   "source": [
    "#US04 - Marriage before divorce\n",
    "def parsedate(date_str):\n",
    "    try:\n",
    "        return datetime.datetime.strptime(date_str, '%Y-%m-%d')\n",
    "    except ValueError:\n",
    "        return None\n",
    "\n",
    "def MarriageBeforeDivorce(individuals, families):\n",
    "    errors = []\n",
    "    for i in range(0,len(families)):\n",
    "        if (families.iloc[i]['Divorced'] == 'NA' or families.iloc[i]['Married'] == 'NA'):\n",
    "            continue\n",
    "        marriageDate = parsedate(families.iloc[i]['Married'])\n",
    "        divorceDate = parsedate(families.iloc[i]['Divorced'])\n",
    "        if (marriageDate and divorceDate and divorceDate < marriageDate):\n",
    "            errors.append(f\"ERROR US04: {families.iloc[i]['ID']} Divorce happened before the date of marriage\")\n",
    "    return errors if errors else None\n",
    "\n",
    "#US06 - Divorce before death\n",
    "def DivorceBeforeDeath(individual, maritalRecord):\n",
    "    \n",
    "    for i in range(0,len(maritalRecord)):\n",
    "        if(maritalRecord.iloc[i]['Divorced'] != 'NA'):\n",
    "            husbandDeath = individual.loc[individual['ID'] == maritalRecord.iloc[i]['Husband ID'], 'Death'].iloc[0]\n",
    "            wifeDeath = individual.loc[individual['ID'] == maritalRecord.iloc[i]['Wife ID'], 'Death'].iloc[0]\n",
    "            if(husbandDeath != 'NA'):\n",
    "                if(parsedate(husbandDeath) < parsedate(maritalRecord.iloc[i]['Divorced'])):\n",
    "                    print(\"Error US06: Person: \" , individual.iloc[i]['ID'] , \", \" , \": Divorce of \" , maritalRecord.iloc[i]['Divorced'], \"occur after death \", husbandDeath)\n",
    "            elif(wifeDeath != 'NA'):\n",
    "                if(parsedate(wifeDeath) < parsedate(maritalRecord.iloc[i]['Divorced'])):\n",
    "                    print(\"Error US06: Person: \" , individual.iloc[i]['ID'] , \", \" , \": Divorce of \" , maritalRecord.iloc[i]['Divorced'], \"occur after death \", wifeDeath)\n",
    "        else:\n",
    "            result = False\n",
    "    \n",
    "    if result is False:\n",
    "        print('No errors for US06')\n",
    "\n"
   ]
  },
  {
   "cell_type": "code",
   "execution_count": 319,
   "id": "552c4c6c",
   "metadata": {},
   "outputs": [],
   "source": [
    "errors = MarriageBeforeDivorce(individuals, families)\n",
    "with open(\"output_file.txt\", 'a') as f:\n",
    "    for e in errors:\n",
    "        f.write(e+'\\n')"
   ]
  },
  {
   "cell_type": "code",
   "execution_count": 320,
   "id": "f07f148c",
   "metadata": {},
   "outputs": [
    {
     "name": "stdout",
     "output_type": "stream",
     "text": [
      "No errors for US06\n"
     ]
    }
   ],
   "source": [
    "DivorceBeforeDeath(individuals, families)"
   ]
  },
  {
   "cell_type": "code",
   "execution_count": 321,
   "id": "63524180",
   "metadata": {},
   "outputs": [],
   "source": [
    "def getLivingMarried(individuals, families):\n",
    "    \n",
    "    for i in range(0,len(families)):\n",
    "        \n",
    "        if (families.iloc[i]['Married'] != 'NA' and families.iloc[i]['Divorced'] == 'NA'):\n",
    "            husbandDeath = individuals.loc[individuals['ID'] == families.iloc[i]['Husband ID'], 'Death'].iloc[0]\n",
    "            wifeDeath = individuals.loc[individuals['ID'] == families.iloc[i]['Wife ID'], 'Death'].iloc[0]\n",
    "            \n",
    "            if(husbandDeath != ' NA' and wifeDeath != 'NA'):\n",
    "                print(\"INFO US30: Person: \" , families.iloc[i]['Husband Name'] , \" is\" , \" living married to \" , families.iloc[i]['Wife Name'])\n"
   ]
  },
  {
   "cell_type": "code",
   "execution_count": 322,
   "id": "9762efa0",
   "metadata": {},
   "outputs": [
    {
     "name": "stdout",
     "output_type": "stream",
     "text": [
      "INFO US30: Person:  Jim /Hernandez/  is  living married to  Michelle /Rubin/\n"
     ]
    }
   ],
   "source": [
    "getLivingMarried(individuals, families)"
   ]
  },
  {
   "cell_type": "code",
   "execution_count": 323,
   "id": "cb96fb5b",
   "metadata": {},
   "outputs": [],
   "source": [
    "def getRecentDeaths(individuals):\n",
    "    \n",
    "    for i in range(0,len(individuals)):\n",
    "        \n",
    "        if (individuals.iloc[i]['Death'] != 'NA'):\n",
    "            \n",
    "            if(datetime.datetime.today() - timedelta(days=30) <= parsedate(individuals.iloc[i]['Death'])):\n",
    "                print(\"INFO US36: Person: \" , individuals.iloc[i]['Name'] , \" is\" , \" dead within the last 30 days\")\n"
   ]
  },
  {
   "cell_type": "code",
   "execution_count": 324,
   "id": "b6b239ff",
   "metadata": {},
   "outputs": [],
   "source": [
    "getRecentDeaths(individuals)"
   ]
  },
  {
   "cell_type": "code",
   "execution_count": 325,
   "id": "0b7ecda8",
   "metadata": {},
   "outputs": [
    {
     "name": "stdout",
     "output_type": "stream",
     "text": [
      "+----+------+-------------------+----------+------------+-------+---------+------------+---------+----------+\n",
      "|    | ID   | Name              | Gender   | Birthday   |   Age | Alive   | Death      | Child   | Spouse   |\n",
      "|----+------+-------------------+----------+------------+-------+---------+------------+---------+----------|\n",
      "|  2 | I3   | Jhon /Rubin/      | M        | 1980-08-08 |    42 | True    | NA         | {'F1'}  | {'F3'}   |\n",
      "|  3 | I4   | Emily /Rubin/     | F        | 1984-11-13 |    -5 | False   | 1980-11-09 | {'F1'}  | {}       |\n",
      "|  5 | I6   | Leo /Rubin/       | M        | 2010-05-07 |    13 | True    | NA         | {'F3'}  | {}       |\n",
      "|  6 | I7   | Rina /Rubin/      | F        | 2013-11-12 |     9 | True    | NA         | {'F3'}  | {}       |\n",
      "|  8 | I9   | Yosef /Hernandez/ | M        | 2016-12-08 |     6 | True    | NA         | {'F2'}  | {}       |\n",
      "+----+------+-------------------+----------+------------+-------+---------+------------+---------+----------+\n"
     ]
    }
   ],
   "source": [
    "### US 28 ---- List of ordered siblings\n",
    "\n",
    "def getSiblings(individuals, families):\n",
    "    \n",
    "    siblingsID = [item for sublist in families[\"Children\"] for item in sublist]\n",
    "    # print(siblingsID)\n",
    "    \n",
    "    siblingsInfo = individuals[individuals.ID.isin(siblingsID)]    \n",
    "    siblingsOrdered = siblingsInfo.sort_values(['Birthday'],ascending=True)\n",
    "    \n",
    "    print(tabulate(siblingsOrdered,headers='keys', tablefmt = 'psql'))\n",
    "    \n",
    "    return tabulate(siblingsOrdered,headers='keys', tablefmt = 'psql')\n",
    "\n",
    "    \n",
    "with open(\"output_file.txt\", 'a') as f:\n",
    "    f.write(\"******US28: List of ordered siblings\\n\")\n",
    "    f.write(getSiblings(individuals, families)+'\\n')"
   ]
  },
  {
   "cell_type": "code",
   "execution_count": 326,
   "id": "9d680a01",
   "metadata": {},
   "outputs": [],
   "source": [
    "### US 29 ---- List of deceased\n",
    "\n",
    "def getListDeceased(individuals):\n",
    "    \n",
    "    \n",
    "    return individuals[['ID', 'Name']].where(individuals['Alive'] == \"False\").dropna()\n",
    "\n",
    "\n",
    "with open(\"output_file.txt\", 'a') as f:\n",
    "    f.write(\"******US29: List of deceased\\n\")\n",
    "    f.write(tabulate(getListDeceased(individuals), headers='keys', tablefmt='psql')+'\\n')"
   ]
  },
  {
   "cell_type": "code",
   "execution_count": 327,
   "id": "3cd21a3a",
   "metadata": {},
   "outputs": [],
   "source": [
    "#US10 - Marriage after 14\n",
    "\n",
    "def MarriageAfter14(individuals, families):\n",
    "    marriedAfter14 = []\n",
    "    for i in range(len(families)):\n",
    "        if families.iloc[i][\"Husband ID\"] and families.iloc[i][\"Wife ID\"]:\n",
    "            husbandId = individuals.loc[individuals['ID'] == families.iloc[i]['Husband ID']]\n",
    "            wifeId = individuals.loc[individuals['ID'] == families.iloc[i]['Wife ID']]\n",
    "\n",
    "            husband = individuals.loc[husbandId]\n",
    "            wife = individuals.loc[wifeId]\n",
    "\n",
    "            if not husband.empty and not wife.empty:\n",
    "                husbandBirthDate = husband[\"Birthday\"].iloc[0]\n",
    "                wifeBirthDate = wife[\"Birthday\"].iloc[0]\n",
    "\n",
    "                if husbandBirthDate and wifeBirthDate:\n",
    "                    husband_age_at_marriage = families.iloc[i][\"Married\"] - husbandBirthDate\n",
    "                    wife_age_at_marriage = families.iloc[i][\"Married\"] - wifeBirthDate\n",
    "\n",
    "                    if husband_age_at_marriage >= 14 and wife_age_at_marriage >= 14:\n",
    "                        marriedAfter14.append((families.iloc[i]['Husband ID'], families.iloc[i]['Wife ID']))\n",
    "                        \n",
    "    return marriedAfter14\n",
    "\n",
    "\n",
    "     \n",
    "    \n",
    "#US11 - No Bigamy\n",
    "def noBigamy(individuals, families):   \n",
    "    living_married = getLivingMarried(individuals, families)    \n",
    "    for c in living_married:\n",
    "        for ind in c:\n",
    "            if len(living_married) > 1:\n",
    "                for cp in living_married.remove(c):\n",
    "                    if ind in cp:\n",
    "                        \n",
    "                        print(\"ANOMALY: US 11: Individual \" + ind + \" is committing bigamy\")\n",
    "                        \n",
    "            else:\n",
    "                print(\"NORMAL: US 11: Individual \" + ind + \" is not committing bigamy\")"
   ]
  },
  {
   "cell_type": "code",
   "execution_count": 328,
   "id": "a5af92ed",
   "metadata": {},
   "outputs": [],
   "source": [
    "def get_Large_age_Differences(families, individuals):\n",
    "    result = 0; \n",
    "    for i in range(0,len(families)):\n",
    "        husbandAge = individuals.loc[individuals['ID'] == families.iloc[i]['Husband ID'], 'Age'].iloc[0]\n",
    "        wifeAge = individuals.loc[individuals['ID'] == families.iloc[i]['Wife ID'], 'Age'].iloc[0]\n",
    "        ageDifference = husbandAge / wifeAge    \n",
    "        if(ageDifference) >= 2 : \n",
    "                print(families[i]['Husband Name'])\n",
    "                print(families[i]['Wife Name'])\n",
    "        else:\n",
    "                result = result + 1\n",
    "    if(result == len(families)):\n",
    "                print(\"No Major Age Difference Found\")"
   ]
  },
  {
   "cell_type": "code",
   "execution_count": 329,
   "id": "575cef68",
   "metadata": {},
   "outputs": [
    {
     "name": "stdout",
     "output_type": "stream",
     "text": [
      "No Major Age Difference Found\n"
     ]
    }
   ],
   "source": [
    "get_Large_age_Differences(families, individuals)"
   ]
  },
  {
   "cell_type": "code",
   "execution_count": 330,
   "id": "bf3ffab7",
   "metadata": {},
   "outputs": [],
   "source": [
    "from datetime import datetime\n",
    "\n",
    "def reject_Illegitimate_dates(families, individuals):\n",
    "#verifying families dates\n",
    "   for i in range(0,len(families)):\n",
    "      divorceDate = families.iloc[i]['Divorced']\n",
    "      marriedDate = families.iloc[i]['Married']\n",
    "      try:\n",
    "\n",
    "         dateObject = datetime.strptime(divorceDate, '%Y-%m-%d')\n",
    "         return True\n",
    "          \n",
    "\n",
    "      except ValueError:\n",
    "         \n",
    "         return (\"Illegitimate date inputted\")\n",
    "   \n",
    "      try:\n",
    "\n",
    "         dateObject = datetime.strptime(marriedDate, '%Y-%m-%d')\n",
    "         return dateObject    \n",
    "\n",
    "      except ValueError:\n",
    "         \n",
    "         return (\"Illegitimate date inputted\")\n",
    "      \n",
    "   for i in range(0,len(individuals)):\n",
    "   #verifying for individuals dates\n",
    "      birthDay = individuals.iloc[i]['Birthday']\n",
    "      deathDate = individuals.iloc[i]['Death']\n",
    "      try:\n",
    "\n",
    "         dateObject = datetime.strptime(birthDay, '%Y-%m-%d')\n",
    "         return True\n",
    "          \n",
    "\n",
    "      except ValueError:\n",
    "         \n",
    "         return (\"Illegitimate date inputted\")\n",
    "   \n",
    "      try:\n",
    "\n",
    "         dateObject = datetime.strptime(deathDate, '%Y-%m-%d')\n",
    "         return dateObject    \n",
    "\n",
    "      except ValueError:\n",
    "         \n",
    "         return (\"Illegitimate date inputted\")\n"
   ]
  },
  {
   "cell_type": "code",
   "execution_count": 331,
   "id": "94928566",
   "metadata": {},
   "outputs": [
    {
     "data": {
      "text/plain": [
       "True"
      ]
     },
     "execution_count": 331,
     "metadata": {},
     "output_type": "execute_result"
    }
   ],
   "source": [
    "reject_Illegitimate_dates(families, individuals)"
   ]
  },
  {
   "cell_type": "code",
   "execution_count": 332,
   "id": "30458f03",
   "metadata": {},
   "outputs": [],
   "source": [
    "### US 38 - List upcoming birthdays occuring in the next 30 days\n",
    "\n",
    "def upcomingBirthdays(individuals):\n",
    "    \n",
    "     \n",
    "    today = date.today()\n",
    "    listBirthdays = pd.DataFrame(columns=['Name', 'Birthday'])\n",
    "    for i in range(0, len(individuals)):\n",
    "        \n",
    "        if (individuals.iloc[i]['Alive'] == 'True' and individuals.iloc[i]['Birthday'] != 'NA'):\n",
    "            \n",
    "            if (today <= datetime.strptime(individuals.iloc[i]['Birthday'], '%Y-%m-%d').date().replace(year=today.year) <= (today+timedelta(days=30))):\n",
    "                \n",
    "                ind = {'Name': individuals.iloc[i]['Name'].replace('/', ''), \n",
    "                       'Birthday': datetime.strptime(individuals.iloc[i]['Birthday'], '%Y-%m-%d').date().replace(year=today.year)}\n",
    "                \n",
    "                listBirthdays =  pd.concat([listBirthdays, pd.DataFrame([ind])], ignore_index=True)\n",
    "    \n",
    "    return listBirthdays\n",
    "\n",
    "\n",
    "\n",
    "with open(\"output_file.txt\", 'a') as f:\n",
    "    f.write(\"******US38: List of upcoming birthdays\\n\")\n",
    "    f.write(tabulate(upcomingBirthdays(individuals), headers='keys', tablefmt='psql')+'\\n')"
   ]
  },
  {
   "cell_type": "code",
   "execution_count": 333,
   "id": "8b5d259f",
   "metadata": {},
   "outputs": [],
   "source": [
    "### US39 --- list marriage anniversaries occuring in the next 30 days\n",
    "\n",
    "def marriageAnniversaries(families, individuals):\n",
    "    \n",
    "    today = datetime.today()\n",
    "    anniversaries = pd.DataFrame(columns=['Husband', 'Wife', 'Marriage Anniversary'])\n",
    "    for i in range(0, len(families)):\n",
    "        \n",
    "        if(individuals.loc[individuals['ID'] == families.iloc[i]['Husband ID'], 'Alive'].iloc[0] == True\n",
    "           and individuals.loc[individuals['ID'] == families.iloc[i]['Wife ID'], 'Death'].iloc[0] == True\n",
    "           and families.iloc[i]['Divorced'] == 'NA'):\n",
    "            \n",
    "            if (today <= datetime.strptime(families.iloc[i]['Married'], '%Y-%m-%d').date().replace(year=today.year) <= (today+timedelta(days=30))):\n",
    "                \n",
    "                family = {'Husband': individuals.loc[individuals['ID']== families.ilocc[i]['Husband ID'], 'Name'].iloc[0],\n",
    "                          'Wife': individuals.loc[individuals['ID']== families.ilocc[i]['Wife ID'], 'Name'].iloc[0],\n",
    "                          'Marriage Anniversary': (families.iloc[i]['Married']).date().replace(year = today.year)}\n",
    "                \n",
    "                anniversaries = pd.concat([anniversaries, pd.DataFrame(family)], ignore_index=True)\n",
    "\n",
    "            \n",
    "    return anniversaries\n",
    "\n",
    "with open(\"output_file.txt\", 'a') as f:\n",
    "    f.write(\"******US39: List of upcoming marriage anniversaries\\n\")\n",
    "    f.write(tabulate(marriageAnniversaries(families, individuals), headers='keys', tablefmt='psql')+'\\n')    "
   ]
  },
  {
   "cell_type": "code",
   "execution_count": null,
   "id": "86b5acb2",
   "metadata": {},
   "outputs": [],
   "source": [
    "#US13 - Siblings spacing\n",
    "from datetime import datetime\n",
    "from dateutil.relativedelta import relativedelta\n",
    "\n",
    "def siblingSpace(individuals, families):\n",
    "    for fam_index, fam_row in families.iterrows():\n",
    "        siblingBirth = []\n",
    "        for col_name, indi_id in fam_row.iteritems():\n",
    "            if col_name.startswith('CHIL') and indi_id is not None:\n",
    "                indi_row = individuals.loc[indi_id]\n",
    "                siblingBirth.append(datetime.strptime(indi_row['BirthDate'], \"%d %b %Y\"))\n",
    "\n",
    "        for i in range(len(siblingBirth)):\n",
    "            for j in range(i + 1, len(siblingBirth)):\n",
    "                diff = relativedelta(siblingBirth[j], siblingBirth[i])\n",
    "                if (diff.years == 0 and diff.months < 8) or \\\n",
    "                   (diff.years == 0 and diff.months == 0 and diff.days >= 2):\n",
    "                    print(\"Siblings not spaced out enough\")\n",
    "                    return\n",
    "\n",
    "    print(\"Siblings spaced out enough\")"
   ]
  },
  {
   "cell_type": "code",
   "execution_count": null,
   "id": "d9f8a240",
   "metadata": {},
   "outputs": [],
   "source": [
    "siblingSpace(individuals, families)"
   ]
  },
  {
   "cell_type": "code",
   "execution_count": null,
   "id": "96c58006",
   "metadata": {},
   "outputs": [],
   "source": [
    "#US14 - Multiple births <= 5\n",
    "#Function to get birth date using person ID\n",
    "from collections import Counter\n",
    "\n",
    "def getBirthDateUsingID(individuals, personID):\n",
    "    return individuals[personID]['BIRT']\n",
    "\n",
    "def multipleBirthslessThan5(individuals, families):\n",
    "    multipleBirthsList = []\n",
    "    \n",
    "    for famID, family in families.items():\n",
    "        children = family.get('CHIL', [])\n",
    "        if len(children) >= 5:\n",
    "            birthDates = [getBirthDateUsingID(individuals, child) for child in children]\n",
    "            birthDateCounts = Counter(birthDates)\n",
    "            if any(count > 5 for count in birthDateCounts.values()):\n",
    "                multipleBirthsList.append(famID)\n",
    "\n",
    "    if len(multipleBirthsList) != 0:\n",
    "        print(\"ERROR: FAMILY: Families with the following IDs had more than 5 siblings born at the same time:\")\n",
    "        print(multipleBirthsList)\n",
    "    else:\n",
    "        print(\"US14: All families have no more than 5 siblings born at the same time.\")\n",
    "        \n",
    "    return len(multipleBirthsList)"
   ]
  },
  {
   "cell_type": "code",
   "execution_count": null,
   "id": "a24e29ab",
   "metadata": {},
   "outputs": [],
   "source": [
    "multipleBirthslessThan5(individuals, families)"
   ]
  }
 ],
 "metadata": {
  "kernelspec": {
   "display_name": "Python 3.8.16 ('base')",
   "language": "python",
   "name": "python3"
  },
  "language_info": {
   "codemirror_mode": {
    "name": "ipython",
    "version": 3
   },
   "file_extension": ".py",
   "mimetype": "text/x-python",
   "name": "python",
   "nbconvert_exporter": "python",
   "pygments_lexer": "ipython3",
   "version": "3.11.3"
  },
  "vscode": {
   "interpreter": {
    "hash": "ac1117340a4449a8e35a7b4ffbf3ab7b2154da17054eb29698d9e16e1dc3ea1c"
   }
  }
 },
 "nbformat": 4,
 "nbformat_minor": 5
}
