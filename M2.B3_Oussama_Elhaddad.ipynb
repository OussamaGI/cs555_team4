{
 "cells": [
  {
   "cell_type": "code",
   "execution_count": 1,
   "id": "9bdc604d",
   "metadata": {},
   "outputs": [
    {
     "name": "stdout",
     "output_type": "stream",
     "text": [
      "Requirement already satisfied: python-gedcom in /Users/oussamaelhaddad/opt/anaconda3/lib/python3.8/site-packages (1.0.0)\n",
      "Note: you may need to restart the kernel to use updated packages.\n"
     ]
    }
   ],
   "source": [
    "pip install python-gedcom"
   ]
  },
  {
   "cell_type": "code",
   "execution_count": 2,
   "id": "cf84d1f6",
   "metadata": {},
   "outputs": [
    {
     "name": "stdout",
     "output_type": "stream",
     "text": [
      "Requirement already satisfied: tabulate in /Users/oussamaelhaddad/opt/anaconda3/lib/python3.8/site-packages (0.9.0)\n",
      "Note: you may need to restart the kernel to use updated packages.\n"
     ]
    }
   ],
   "source": [
    "pip install tabulate\n"
   ]
  },
  {
   "cell_type": "code",
   "execution_count": 3,
   "id": "513a8c69",
   "metadata": {},
   "outputs": [],
   "source": [
    "### gedcom library\n",
    "\n",
    "from gedcom.parser import Parser\n",
    "from gedcom.element.individual import IndividualElement\n",
    "from gedcom.element.family import FamilyElement\n",
    "import pandas as pd\n",
    "import numpy as np\n",
    "from tabulate import tabulate\n",
    "import datetime\n",
    "from datetime import date\n",
    "\n",
    "import warnings\n",
    "warnings.filterwarnings(\"ignore\")"
   ]
  },
  {
   "cell_type": "code",
   "execution_count": 4,
   "id": "513bd82d",
   "metadata": {},
   "outputs": [],
   "source": [
    "def calculateAge(birthDate, deathDate):\n",
    "    \n",
    "      age = deathDate.year - birthDate.year - ((deathDate.month, deathDate.day) <\n",
    "            (birthDate.month, birthDate.day))\n",
    "         \n",
    " \n",
    "      return age"
   ]
  },
  {
   "cell_type": "code",
   "execution_count": 5,
   "id": "cf9ce6a2",
   "metadata": {},
   "outputs": [],
   "source": [
    "def getIndividuals(file):\n",
    "    \n",
    "    ### dataframe to store individuals details\n",
    "    individuals = pd.DataFrame(columns=['ID','Name','Gender','Birthday','Age','Alive','Death','Child','Spouse'])\n",
    "    \n",
    "    ### Parse the gedcom file\n",
    "    parser = Parser()\n",
    "    parser.parse_file(file)\n",
    "    \n",
    "    ### Iterate through each element and pull an individual data based on level and tag conditions\n",
    "    for ele in parser.get_element_list():\n",
    "        \n",
    "        if(IndividualElement.is_individual(ele) == True):\n",
    "            \n",
    "            famSpouses = set()\n",
    "            famChilds = set()            \n",
    "            id = ele.get_pointer().replace('@', '')\n",
    "            deathDate = 'NA'\n",
    "            alive = 'True'\n",
    "            \n",
    "            ### For each individual element, below extracting the personal data\n",
    "            child_elements = IndividualElement.get_child_elements(ele)\n",
    "            for child in child_elements:\n",
    "                if(child.get_tag() == 'NAME'):\n",
    "                    name = child.get_value()\n",
    "                    # print(name)\n",
    "                elif(child.get_tag() == 'SEX'):\n",
    "                    gender = child.get_value()\n",
    "                    # print(gender)\n",
    "                elif(child.get_tag() == 'BIRT'):\n",
    "                    birthDate = datetime.datetime.strptime(child.get_child_elements()[0].get_value(),'%d %b %Y').strftime('%Y-%m-%d')\n",
    "                    # print(birthDate)\n",
    "                    age = calculateAge(date(int(birthDate.split('-')[0]),int(birthDate.split('-')[1]),int(birthDate.split('-')[2])), \n",
    "                            date.today())\n",
    "                elif(child.get_tag() == 'FAMS'):\n",
    "                    famSpouses.add(child.get_value().replace('@', ''))\n",
    "                    # print('Spouse ', famSpouses)\n",
    "                elif(child.get_tag() == 'FAMC'):\n",
    "                    famChilds.add(child.get_value().replace('@', ''))\n",
    "                    # print('Childs ', famChilds)\n",
    "                elif(child.get_tag() == 'DEAT'):\n",
    "                    deathDate = datetime.datetime.strptime(child.get_child_elements()[0].get_value(),'%d %b %Y').strftime('%Y-%m-%d')\n",
    "                    # print(deathDate)\n",
    "                    alive = 'False'\n",
    "                    age = calculateAge(date(int(birthDate.split('-')[0]),int(birthDate.split('-')[1]),int(birthDate.split('-')[2])), \n",
    "                           date(int(deathDate.split('-')[0]),int(deathDate.split('-')[1]),int(deathDate.split('-')[2])))\n",
    "                    \n",
    "        \n",
    "            # print('*********')  \n",
    "        ### Appending each individual to dataframe\n",
    "            row = {'ID': id, 'Name': name, 'Gender': gender, \n",
    "                'Birthday': birthDate, 'Age': age, 'Alive': alive,\n",
    "                'Death': deathDate, 'Child': famChilds, 'Spouse': famSpouses}\n",
    "            \n",
    "            individuals = individuals.append(row, ignore_index = True)\n",
    "            \n",
    "    return individuals"
   ]
  }
 ],
 "metadata": {
  "kernelspec": {
   "display_name": "Python 3.8.16 ('base')",
   "language": "python",
   "name": "python3"
  },
  "language_info": {
   "codemirror_mode": {
    "name": "ipython",
    "version": 3
   },
   "file_extension": ".py",
   "mimetype": "text/x-python",
   "name": "python",
   "nbconvert_exporter": "python",
   "pygments_lexer": "ipython3",
   "version": "3.8.16"
  },
  "vscode": {
   "interpreter": {
    "hash": "ac1117340a4449a8e35a7b4ffbf3ab7b2154da17054eb29698d9e16e1dc3ea1c"
   }
  }
 },
 "nbformat": 4,
 "nbformat_minor": 5
}
